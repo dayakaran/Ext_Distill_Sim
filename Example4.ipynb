{
 "cells": [
  {
   "cell_type": "markdown",
   "metadata": {},
   "source": [
    "# Example 4: Ternary Tangent Pinch\n",
    "\n",
    "#### Example 3 depicted a tangent pinch for a binary system.  This example shows how a tangent pinch is represented in a ternary system of Acetaldehyde, Methanol, and Water.\n",
    "\n",
    "In these systems, as Reflux Ratio changes, the fixed point which terminates the rectifying section changes.  However, at the tangent pinch, a very small increment in reflux ratio causes the fixed point composition to rapidly shoot to a new value. \n",
    "\n",
    "This example shows the rectifying section experiences a jump at this tangent pinch, which occurs at a reflux ratio between 0.1 and 0.2."
   ]
  },
  {
   "cell_type": "code",
   "execution_count": 1,
   "metadata": {},
   "outputs": [],
   "source": [
    "import numpy as np\n",
    "import matplotlib.pyplot as plt\n",
    "import seaborn as sns\n",
    "\n",
    "from utils import AntoineEquationBaseE\n",
    "\n",
    "from distillation import DistillationModelTernary\n",
    "import ipywidgets as widgets\n",
    "from IPython.display import display, clear_output\n",
    "\n",
    "from ipywidgets import interactive, Button, VBox, HBox, Output\n",
    "from IPython.display import clear_output\n",
    "\n",
    "from thermo_models import VanLaarModel\n",
    "from distillation import PhasePortraits\n",
    "\n",
    "plt.rcParams.update({\"text.usetex\": True,\"font.family\": \"sans-serif\",\"font.sans-serif\": [\"Helvetica\"]})"
   ]
  },
  {
   "cell_type": "markdown",
   "metadata": {},
   "source": [
    "###### System parameters using Margules Model"
   ]
  },
  {
   "cell_type": "code",
   "execution_count": 2,
   "metadata": {},
   "outputs": [],
   "source": [
    "A_ij = {\n",
    "    (1,1):0,\n",
    "    (1,2):-320.234,\n",
    "    (1,3):354.58,\n",
    "    (2,1):-380.141,\n",
    "    (2,2):0,\n",
    "    (2,3):332.6,\n",
    "    (3,1):291.0,\n",
    "    (3,2):163.80,\n",
    "    (3,3):0\n",
    "}\n",
    "\n",
    "#Provide pressure in Pascals\n",
    "P_sys = 1.01325 * 1e5 #pascals\n",
    "\n",
    "#Antoine parameters from Jhulka's thesis\n",
    "Acet_A = 21.1419; Acet_B = 2465.15;  Acet_C = -37.15\n",
    "Me_A   = 23.4833; Me_B   = 3634.01;  Me_C   = -33.768\n",
    "H2O_A  = 23.2256; H2O_B  = 3835.18;  H2O_C  = -45.343\n",
    "\n",
    "#Antoine Equations \n",
    "Acet_antoine     = AntoineEquationBaseE(Acet_A, Acet_B, Acet_C)\n",
    "H2O_antoine      = AntoineEquationBaseE(H2O_A,  H2O_B,  H2O_C)\n",
    "Methanol_antoine = AntoineEquationBaseE(Me_A,   Me_B,   Me_C)"
   ]
  },
  {
   "cell_type": "code",
   "execution_count": 3,
   "metadata": {},
   "outputs": [],
   "source": [
    "def plot_mb(dist_model):\n",
    "    \n",
    "    fig, ax = plt.subplots(figsize= (6,5))\n",
    "    dist_model.plot_mb(ax)\n",
    "    plt.tight_layout()\n",
    "    plt.show()\n",
    "\n",
    "def plot_rect(dist_model, rcm, rr):\n",
    "    \n",
    "    dist_model.set_r(rr)    \n",
    "    \n",
    "    fig, ax = plt.subplots(1,2,figsize= (10,5))\n",
    "    dist_model.plot_rect_comp(ax[0])\n",
    "    \n",
    "    rcm.plot_vector_field_rect (ax[1], 20)\n",
    "    dist_model.plot_rect_comp(ax[1])\n",
    "    plt.tight_layout()\n",
    "    plt.show()\n",
    "\n",
    "def plot_rect_strip(dist_model, rcm, rr):\n",
    "    \n",
    "    dist_model.set_r(rr)\n",
    "    \n",
    "    fig, ax = plt.subplots(1,3,figsize= (15,5))\n",
    "    dist_model.plot_rect_strip_comp(ax[0])   \n",
    "    \n",
    "    rcm.plot_vector_field_rect  (ax[1], 20)\n",
    "    rcm.plot_vector_field_strip (ax[2], 20)\n",
    "    \n",
    "    dist_model.plot_rect_comp  (ax[1])\n",
    "    dist_model.plot_strip_comp (ax[2])\n",
    "    plt.tight_layout()\n",
    "    plt.show()"
   ]
  },
  {
   "cell_type": "code",
   "execution_count": 4,
   "metadata": {},
   "outputs": [
    {
     "data": {
      "image/png": "[encoded data removed]",
      "text/plain": [
       "<Figure size 600x500 with 1 Axes>"
      ]
     },
     "metadata": {},
     "output_type": "display_data"
    }
   ],
   "source": [
    "# Create a VLE model object\n",
    "vle_model = VanLaarModel (3, P_sys, [\"Acetal\", \"Methanol\",\"H20\"],[Acet_antoine, Methanol_antoine, H2O_antoine], A_ij, False )\n",
    "\n",
    "# Create a distillation model\n",
    "distillation_model = DistillationModelTernary(vle_model, xF = np.array([0.3, 0.3, 0.4]), xD = np.array([0.5030, 0.4960, 0.0010]), xB = np.array([1e-10, 0.0103 - 1e-10,0.9897]), reflux = 0.1)\n",
    "#distillation_model = DistillationModelTernary(vle_model, xF = np.array([0.3, 0.3, 0.4]), xD = np.array([0.999, 9.96e-4, 4e-6]), xB = np.array([0.001, 0.4279, 0.5711]), reflux = 0.1)\n",
    "\n",
    "# Create a residue curve map object\n",
    "rcm = PhasePortraits(vle_model, distillation_model)\n",
    "\n",
    "plot_mb(distillation_model)"
   ]
  },
  {
   "cell_type": "code",
   "execution_count": 5,
   "metadata": {},
   "outputs": [],
   "source": [
    "# Setup sliders\n",
    "\n",
    "R1_slider = widgets.FloatSlider(value=0.1, min=0.5, max=1.0, step=0.01,  description='Reflux Ratio:', readout_format='.2f')\n",
    "R2_slider = widgets.FloatSlider(value=0.1, min=0.5, max=1.0, step=0.01,  description='Reflux Ratio:', readout_format='.2f')\n",
    "go_button = widgets.Button(description='Create Model', width='15%', margin='0 10px 0 0')\n",
    "\n",
    "# Setup interactive objects\n",
    "\n",
    "out_1 = Output()\n",
    "out_2 = Output()"
   ]
  },
  {
   "cell_type": "markdown",
   "metadata": {},
   "source": [
    "##### Demo 1: Rectifying Section\n",
    "\n",
    "Use the slider to vary the reflux ratio.  Notice how the end of the rectifying section always changes with the reflux ratio, but experiences a much more rapid change between values of 0.65 and 0.68."
   ]
  },
  {
   "cell_type": "code",
   "execution_count": 6,
   "metadata": {},
   "outputs": [
    {
     "data": {
      "application/vnd.jupyter.widget-view+json": {
       "model_id": "56252ebda5884bf1803a0c5009cc3299",
       "version_major": 2,
       "version_minor": 0
      },
      "text/plain": [
       "VBox(children=(HBox(children=(FloatSlider(value=0.5, description='Reflux Ratio:', max=1.0, min=0.5, step=0.01)…"
      ]
     },
     "metadata": {},
     "output_type": "display_data"
    }
   ],
   "source": [
    "def on_go_button_click(b):\n",
    "    with out_1:\n",
    "        clear_output()\n",
    "        plt.close('all')  # Close all open matplotlib plots\n",
    "        plot_rect(distillation_model, rcm, rr = R1_slider.value)\n",
    "        \n",
    "go_button = Button(description='Generate Plot')\n",
    "go_button.on_click(on_go_button_click)\n",
    "\n",
    "layout = VBox([HBox([R1_slider, go_button]), out_1])\n",
    "display(layout)"
   ]
  },
  {
   "cell_type": "markdown",
   "metadata": {},
   "source": [
    "### Demo 2: Full Column\n",
    "\n",
    "What are the implications of this ternary tangent pinch?\n",
    "\n",
    "As Example 2 discussed, for a ternary column to be feasible, the rectifying and stripping sections need to overlap.\n",
    "Change the reflux ratio again, and notice how the jump at the ternary pinch value is necessary for the column to be feasible.  This demonstration also highlights how slight changes to reflux ratio have a much larger impact on the rectifying section than on the stripping section.\n",
    "\n",
    "Try reflux ratio (0.65 vs 0.67)"
   ]
  },
  {
   "cell_type": "code",
   "execution_count": 7,
   "metadata": {},
   "outputs": [
    {
     "data": {
      "application/vnd.jupyter.widget-view+json": {
       "model_id": "10970015c3924929be3465fd9a31d03d",
       "version_major": 2,
       "version_minor": 0
      },
      "text/plain": [
       "VBox(children=(HBox(children=(FloatSlider(value=0.5, description='Reflux Ratio:', max=1.0, min=0.5, step=0.01)…"
      ]
     },
     "metadata": {},
     "output_type": "display_data"
    }
   ],
   "source": [
    "def on_go2_button_click(b):\n",
    "    with out_2:\n",
    "        clear_output()\n",
    "        plt.close('all')  # Close all open matplotlib plots\n",
    "        plot_rect_strip( distillation_model, rcm, rr = R2_slider.value)\n",
    "        \n",
    "go2_button = widgets.Button(description='Generate Plot')\n",
    "go2_button.on_click(on_go2_button_click)\n",
    "\n",
    "layout = VBox([HBox([R2_slider, go2_button]), out_2])\n",
    "display(layout)"
   ]
  },
  {
   "cell_type": "code",
   "execution_count": null,
   "metadata": {},
   "outputs": [],
   "source": []
  }
 ],
 "metadata": {
  "kernelspec": {
   "display_name": "Python 3 (ipykernel)",
   "language": "python",
   "name": "python3"
  },
  "language_info": {
   "codemirror_mode": {
    "name": "ipython",
    "version": 3
   },
   "file_extension": ".py",
   "mimetype": "text/x-python",
   "name": "python",
   "nbconvert_exporter": "python",
   "pygments_lexer": "ipython3",
   "version": "3.8.16"
  }
 },
 "nbformat": 4,
 "nbformat_minor": 2
}
