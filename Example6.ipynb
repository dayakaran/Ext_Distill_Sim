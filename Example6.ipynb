{
 "cells": [
  {
   "cell_type": "markdown",
   "metadata": {},
   "source": [
    "## Example 5: Extractive Distillation"
   ]
  },
  {
   "cell_type": "code",
   "execution_count": 1,
   "metadata": {},
   "outputs": [
    {
     "name": "stderr",
     "output_type": "stream",
     "text": [
      "/Applications/Anaconda/anaconda3/lib/python3.8/site-packages/scipy/__init__.py:138: UserWarning: A NumPy version >=1.16.5 and <1.23.0 is required for this version of SciPy (detected version 1.24.4)\n",
      "  warnings.warn(f\"A NumPy version >={np_minversion} and <{np_maxversion} is required for this version of \"\n",
      "/Applications/Anaconda/anaconda3/lib/python3.8/site-packages/pandas/core/computation/expressions.py:20: UserWarning: Pandas requires version '2.7.3' or newer of 'numexpr' (version '2.7.1' currently installed).\n",
      "  from pandas.core.computation.check import NUMEXPR_INSTALLED\n"
     ]
    }
   ],
   "source": [
    "import numpy as np\n",
    "import matplotlib.pyplot as plt\n",
    "import ipywidgets as widgets\n",
    "from IPython.display import display, clear_output\n",
    "from ipywidgets import interactive, Button, VBox, HBox, Output\n",
    "\n",
    "import src.utils.AntoineEquation as AE\n",
    "from src.distillation.DistillationDoubleFeed import *\n",
    "\n",
    "from src.thermo_models.VanLaarModel import *\n",
    "from src.distillation.residue_curves import *\n",
    "\n",
    "import pickle\n",
    "from utils.dictionary_approx import *"
   ]
  },
  {
   "cell_type": "code",
   "execution_count": 2,
   "metadata": {},
   "outputs": [],
   "source": [
    "# Import fixed points\n",
    "\n",
    "with open(\"./src/utils/pickles/demo_3_acetmethwater_r.pkl\", \"rb\") as f:\n",
    "    demo_3_acetmethwater_r_dict = pickle.load(f)\n",
    "\n",
    "with open(\"./src/utils/pickles/demo_4_fr_to_fixed_points_AceMethWaterSys.pkl\", \"rb\") as f:\n",
    "    demo_4_fr_to_fixed_points_AceMethWaterSys = pickle.load(f)"
   ]
  },
  {
   "cell_type": "code",
   "execution_count": 3,
   "metadata": {},
   "outputs": [],
   "source": [
    "#Acetone (1 - Light) Methanol (2 - Intermediate) Water (3 - Heavy)\n",
    "#Table A.6 in Knapp \n",
    "A_ij = {\n",
    "    (1,1):0,\n",
    "    (1,2):182.0,\n",
    "    (1,3):795.0,\n",
    "    (2,1):196,\n",
    "    (2,2):0,\n",
    "    (2,3):332.6,\n",
    "    (3,1):490.0,\n",
    "    (3,2):163.80,\n",
    "    (3,3):0\n",
    "}\n",
    "\n",
    "#Different definition of Antoine where we have to take the negative of B\n",
    "Acet_A = 21.3099; Acet_B = 2801.53; Acet_C = -42.875\n",
    "Meth_A = 23.4832; Meth_B = 3634.01; Meth_C = -33.768\n",
    "#Assuming P < 2 atm\n",
    "Water_A = 23.2256; Water_B = 3835.18; Water_C = -45.343\n",
    "\n",
    "#Knapp Thesis Figure 3.8 uses ln form of Antoine\n",
    "AcetoneAntoine  = AE.AntoineEquationBaseE(Acet_A,Acet_B,Acet_C)\n",
    "MethanolAntoine = AE.AntoineEquationBaseE(Meth_A, Meth_B, Meth_C)\n",
    "WaterAntoine    = AE.AntoineEquationBaseE(Water_A,Water_B,Water_C)\n",
    "        \n",
    "P_sys = 101325 # Provide pressure in pascals\n",
    "# Specify property method for Acetone Methanol Water system\n",
    "AceMethWaterSys = VanLaarModel(num_comp = 3, P_sys = P_sys, A_coeff = A_ij, comp_names = [\"Acetone\",\"Methanol\",\"Water\"], partial_pressure_eqs = [AcetoneAntoine, MethanolAntoine, WaterAntoine])"
   ]
  },
  {
   "cell_type": "code",
   "execution_count": 4,
   "metadata": {},
   "outputs": [],
   "source": [
    "# Define plot function for overall mass balance\n",
    "\n",
    "def plot_mb(dist_model):\n",
    "    \n",
    "    fig, ax = plt.subplots(figsize= (6,5))\n",
    "    dist_model.plot_mb(ax)\n",
    "    plt.tight_layout()\n",
    "    plt.show()"
   ]
  },
  {
   "cell_type": "markdown",
   "metadata": {},
   "source": [
    "#### Create distillation models"
   ]
  },
  {
   "cell_type": "code",
   "execution_count": 5,
   "metadata": {},
   "outputs": [
    {
     "data": {
      "image/png": "[encoded data removed]",
      "text/plain": [
       "<Figure size 432x360 with 1 Axes>"
      ]
     },
     "metadata": {
      "needs_background": "light"
     },
     "output_type": "display_data"
    }
   ],
   "source": [
    "Fr  = 1  # Feed ratio\n",
    "R   = 1  # reflux ratio\n",
    "xFL = np.array([0.3, 0.6, 0.1])\n",
    "xFU = np.array([0.2, 0.1, 0.7])\n",
    "zF  = (Fr/(1+Fr))*xFU + (1/(1+Fr))*xFL                               #Knapp Equation 5.9\n",
    "xD  = np.array([0.90, 0.08, 0.02]) \n",
    "D_B = ((zF[0] - 0.02) / (xD[0] - zF[0]))                             #Knapp Equation 5.13, set xB[0] = 0.01\n",
    "xB  = np.array([0.02, (zF[1] - D_B*(xD[1]-zF[1])), (zF[2] - D_B*(xD[2]*zF[2]))])\n",
    "\n",
    "# Distillation model object\n",
    "distillation_model = DistillationModelDoubleFeed(thermo_model=AceMethWaterSys, Fr = Fr, zF = zF, xFL = xFL, xFU = xFU, xD = xD, xB = xB, reflux = R)\n",
    "\n",
    "# Residue curve map object\n",
    "rcm = PhasePortraits(thermo_model=AceMethWaterSys, distil_model = distillation_model)\n",
    "\n",
    "plot_mb(distillation_model)"
   ]
  },
  {
   "cell_type": "markdown",
   "metadata": {},
   "source": [
    "### Demo 1.5: How do reflux ratio and feed ratio affect feasibility \n",
    "\n",
    "Two systems are depicted in the graphs below.  Differences in the locations of the fixed points lead to different properties in the shapes of the operating curves.  These differences are highlighted at 3 sets of feed, distillate and bottoms compositions:\n",
    "\n",
    "A:  Notice how the middle section correctly acts as a staple that connects the rectifying and stripping sections.  The Middle Vector Field depicts how the curve moves towards a stable node with an enriched Acetone composition.  \n",
    "\n",
    "B:  Now the Reflux Ratio and Feed Ratio have been changed.  Notice how the Middle Vector Field has changed.  Now the middle section no longer connects the rectifying and stripping sections.  Instead, it moves towards a node which exists outside of the physically realizable triangle of compositions.\n",
    "\n",
    "C:  **This text is no longer true, not sure if numbers got changed somewhere??**  Focus on the shapes of the Rectifying Sections.  The Acetone-Methanol-Water system is feasible because its rectifying section curves upwards and intersects the staple.  The Ethanol-Water-Ethylene Glycol system has a rectifying section with much fewer equilibrium stages, and it moves directly towards the stable Ethylene Glycol node.  As a result, the column is unfeasible"
   ]
  },
  {
   "cell_type": "code",
   "execution_count": 6,
   "metadata": {},
   "outputs": [
    {
     "data": {
      "application/vnd.jupyter.widget-view+json": {
       "model_id": "8d1a315fc9c84f25ae7851d376d152ed",
       "version_major": 2,
       "version_minor": 0
      },
      "text/plain": [
       "interactive(children=(Dropdown(description='Demo Choice:', options=('A', 'B', 'C'), value='A'), Output()), _do…"
      ]
     },
     "metadata": {},
     "output_type": "display_data"
    }
   ],
   "source": [
    "# Create an interactive plot function\n",
    "def interactive_plot(system):\n",
    "    \n",
    "    dist_model = distillation_model\n",
    "    rc         = rcm\n",
    "\n",
    "    if system == 'A':\n",
    "        middle_start = 2\n",
    "        dist_model.set_Fr(0.5)\n",
    "        dist_model.set_r(7)\n",
    "\n",
    "    elif system == 'B':\n",
    "        middle_start = 6\n",
    "        dist_model.set_Fr(1)\n",
    "        dist_model.set_r(1.5)\n",
    "\n",
    "    elif system == 'C':\n",
    "        middle_start = 9\n",
    "        dist_model.set_Fr(2)\n",
    "        dist_model.set_r(1)\n",
    "\n",
    "    fig, axes = plt.subplots(2, 2, figsize=(10, 10))\n",
    "    \n",
    "    dist_model.plot_rect_strip_comp(axes[0,0], middle_start=middle_start)\n",
    "    rc.plot_vector_field_rect(axes[0,1]) \n",
    "    rc.plot_vector_field_strip(axes[1,0])\n",
    "    rc.plot_vector_field_middle(axes[1,1])\n",
    "    \n",
    "    axes[0,0].set_title('Acetone-Methanol-Water')\n",
    "    \n",
    "    plt.tight_layout()\n",
    "    plt.show()\n",
    "\n",
    "\n",
    "system_widget = widgets.Dropdown(options=[\"A\", \"B\", \"C\"], description='Demo Choice:', disabled=False) \n",
    "\n",
    "# Create an interactive plot with the dropdown widget\n",
    "interactive(interactive_plot,system = system_widget)"
   ]
  },
  {
   "cell_type": "markdown",
   "metadata": {},
   "source": [
    "### Demo 2: How does the location of the solvent feed stage affect feasibility"
   ]
  },
  {
   "cell_type": "code",
   "execution_count": null,
   "metadata": {},
   "outputs": [],
   "source": [
    "# Create an interactive plot function\n",
    "def interactive_plot(middle_start):\n",
    "\n",
    "    dist_model    = distillation_model\n",
    "    rc            = rcm\n",
    "    \n",
    "    Fr = 0.5\n",
    "    R = 3\n",
    "    xFL = np.array([0.3, 0.6, 0.1])\n",
    "    xFU = np.array([0.2, 0.1, 0.7])\n",
    "    zF = (Fr/(1+Fr))*xFU + (1/(1+Fr))*xFL                                #Knapp Equation 5.9\n",
    "    xD = np.array([0.93, 0.04, 0.03]) \n",
    "    D_B = ((zF[0] - 0.02) / (xD[0] - zF[0]))                             #Knapp Equation 5.13, set xB[0] = 0.01\n",
    "    xB = np.array([0.02, (zF[1] - D_B*(xD[1]-zF[1])), (zF[2] - D_B*(xD[2]*zF[2]))])\n",
    "\n",
    "    dist_model.set_Fr(Fr)\n",
    "    dist_model.set_r(R)\n",
    "    dist_model.set_xFL(xFL)\n",
    "    dist_model.set_xFU(xFU)\n",
    "    dist_model.set_xD(xD)\n",
    "    dist_model.set_zF(zF)\n",
    "    dist_model.set_xB(xB)\n",
    "     \n",
    "    fig, ax = plt.subplots(1, 2, figsize=(10, 5))\n",
    "    dist_model.plot_rect_strip_comp(ax[0], middle_start=middle_start)\n",
    "    dist_model.plot_middle_comp(ax[1], middle_start=middle_start)\n",
    "    rc.plot_vector_field_middle(ax[1])\n",
    "    \n",
    "    plt.show()\n",
    "\n",
    "# Create a dropdown widget for middle_start\n",
    "middle_start_widget = widgets.Dropdown(options=[2, 4, 6, 8, 10], description='Middle Section Start:', disabled=False)\n",
    "\n",
    "# Create an interactive plot with the dropdown widget\n",
    "interactive(interactive_plot, middle_start=middle_start_widget)"
   ]
  },
  {
   "cell_type": "markdown",
   "metadata": {},
   "source": [
    "### Demo 3\n",
    "A maximum reflux ratio exists, around R=60?"
   ]
  },
  {
   "cell_type": "code",
   "execution_count": null,
   "metadata": {},
   "outputs": [],
   "source": [
    "R_slider =  widgets.FloatLogSlider(value=1, min=0, max=2, step=0.001,  description='Reflux Ratio:', readout_format='.1f')\n",
    "go_button = widgets.Button(description='Create Model', width='15%', margin='0 10px 0 0')\n",
    "system_widget = widgets.Dropdown(\n",
    "    options=[\"Acetone/Methanol/Water\",\"Ethanol/Water/Ethylene Glycol\"],\n",
    "    description='Components:',\n",
    "    disabled=False\n",
    "    ) \n",
    "# Create a dropdown widget for middle_start\n",
    "middle_start_widget = widgets.Dropdown(\n",
    "    options=[2, 4, 6, 8, 10],\n",
    "    description='Middle Section Start:',\n",
    "    disabled=False\n",
    ")\n",
    "out_middle = Output()\n",
    "\n",
    "def plot_reflux_demo_ex5(R = R_slider, thermo_system = system_widget.value, middle_start=6):\n",
    "    thermo_choice = AceMethWaterSys\n",
    "    Fr = 1.0\n",
    "    if thermo_system == 'Ethanol/Water/Ethylene Glycol':\n",
    "        #thermo_choice = EthWaterEGSys\n",
    "        Fr = 0.1\n",
    "    xFL = np.array([0.3, 0.6, 0.1])\n",
    "    xFU = np.array([0.2, 0.1, 0.7])\n",
    "    zF = (Fr/(1+Fr))*xFU + (1/(1+Fr))*xFL                                #Knapp Equation 5.9\n",
    "    xD = np.array([0.93, 0.04, 0.03]) \n",
    "    D_B = ((zF[0] - 0.02) / (xD[0] - zF[0]))                             #Knapp Equation 5.13, set xB[0] = 0.01\n",
    "    xB = np.array([0.02, (zF[1] - D_B*(xD[1]-zF[1])), (zF[2] - D_B*(xD[2]*zF[2]))])\n",
    "\n",
    "    distillation_model = DistillationModelDoubleFeed(thermo_model = thermo_choice, Fr = Fr, zF = zF, xFL = xFL, xFU = xFU, xD = xD, xB = xB, reflux = R)\n",
    "    fig, ax = plt.subplots(1,1,figsize= (5,10))\n",
    "    distillation_model.plot_rect_strip_comp(ax, middle_start=middle_start)\n",
    "    plt.subplots_adjust(hspace=0)\n",
    "    plt.show()\n",
    "\n",
    "def on_go_button_click(b):\n",
    "    with out_middle:\n",
    "        clear_output(wait=True)\n",
    "        plt.close('all')  # Close all open matplotlib plots\n",
    "        plot_reflux_demo_ex5(R=R_slider.value, thermo_system=system_widget.value, middle_start = middle_start_widget.value)\n",
    "        \n",
    "go_button = Button(description='Generate Plot')\n",
    "go_button.on_click(on_go_button_click)\n",
    "\n",
    "layout = VBox([system_widget,middle_start_widget, HBox([R_slider, go_button]), out_middle])\n",
    "display(layout)"
   ]
  },
  {
   "cell_type": "markdown",
   "metadata": {},
   "source": [
    "### Demo 4\n",
    "Changing Feed Ratio"
   ]
  },
  {
   "cell_type": "code",
   "execution_count": null,
   "metadata": {},
   "outputs": [],
   "source": [
    "Fr_slider =  widgets.FloatLogSlider(value=0.64, min=-1, max=1, step=0.001,  description='Feed Ratio:', readout_format='.2f')\n",
    "go_button = widgets.Button(description='Create Model', width='15%', margin='0 10px 0 0')\n",
    "system_widget = widgets.Dropdown(\n",
    "    options=[\"Acetone/Methanol/Water\",\"Ethanol/Water/Ethylene Glycol\"],\n",
    "    description='Components:',\n",
    "    disabled=False\n",
    "    ) \n",
    "# Create a dropdown widget for middle_start\n",
    "middle_start_widget = widgets.Dropdown(\n",
    "    options=[2, 4, 6, 8, 10],\n",
    "    description='Middle Section Start:',\n",
    "    disabled=False\n",
    ")\n",
    "out_middle = Output()\n",
    "\n",
    "def plot_reflux_demo_ex5_demo4(Fr = Fr_slider, thermo_system = system_widget.value, middle_start=6):\n",
    "    thermo_choice = AceMethWaterSys\n",
    "    R = 1.35\n",
    "    if thermo_system == 'Ethanol/Water/Ethylene Glycol':\n",
    "        #thermo_choice = EthWaterEGSys\n",
    "        R = 6\n",
    "    xFL = np.array([0.3, 0.6, 0.1])\n",
    "    xFU = np.array([0.2, 0.1, 0.7])\n",
    "    zF = (Fr/(1+Fr))*xFU + (1/(1+Fr))*xFL                                #Knapp Equation 5.9\n",
    "    xD = np.array([0.93, 0.04, 0.03]) \n",
    "    D_B = ((zF[0] - 0.02) / (xD[0] - zF[0]))                             #Knapp Equation 5.13, set xB[0] = 0.01\n",
    "    xB = np.array([0.02, (zF[1] - D_B*(xD[1]-zF[1])), (zF[2] - D_B*(xD[2]*zF[2]))])\n",
    "\n",
    "    distillation_model = DistillationModelDoubleFeed(thermo_model = thermo_choice, Fr = Fr, zF = zF, xFL = xFL, xFU = xFU, xD = xD, xB = xB, reflux = R)\n",
    "    fig, ax = plt.subplots(1,1,figsize= (5,10))\n",
    "    distillation_model.plot_rect_strip_comp(ax, middle_start=middle_start)\n",
    "    plt.subplots_adjust(hspace=0)\n",
    "    plt.show()\n",
    "\n",
    "\n",
    "def on_go_button_click(b):\n",
    "    with out_middle:\n",
    "        clear_output(wait=True)\n",
    "        plt.close('all')  # Close all open matplotlib plots\n",
    "        plot_reflux_demo_ex5_demo4(Fr=Fr_slider.value, thermo_system=system_widget.value, middle_start = middle_start_widget.value)\n",
    "        \n",
    "go_button = Button(description='Generate Plot')\n",
    "go_button.on_click(on_go_button_click)\n",
    "\n",
    "layout = VBox([system_widget,middle_start_widget, HBox([Fr_slider, go_button]), out_middle])\n",
    "display(layout)"
   ]
  },
  {
   "cell_type": "code",
   "execution_count": null,
   "metadata": {},
   "outputs": [],
   "source": []
  }
 ],
 "metadata": {
  "kernelspec": {
   "display_name": "Python 3",
   "language": "python",
   "name": "python3"
  },
  "language_info": {
   "codemirror_mode": {
    "name": "ipython",
    "version": 3
   },
   "file_extension": ".py",
   "mimetype": "text/x-python",
   "name": "python",
   "nbconvert_exporter": "python",
   "pygments_lexer": "ipython3",
   "version": "3.8.5"
  }
 },
 "nbformat": 4,
 "nbformat_minor": 2
}
