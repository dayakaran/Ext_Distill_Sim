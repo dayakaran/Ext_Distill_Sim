{
 "cells": [
  {
   "cell_type": "markdown",
   "metadata": {},
   "source": [
    "# Example 2: An Ideal, Ternary Mixture\n",
    "\n",
    "This example shows the distillation column for a mixture of Benzene (heavy key), Toluene (intermediate) and Xylene (light key).\n",
    "\n",
    "The Rectifying and Stripping operating lines are curves in the ternary plot.  The symbols represent the equilibrium composition of liquid that exits a stage.  \n",
    "\n",
    "A column designed is deemed feasible when the Rectifying and Stripping operating lines overlap."
   ]
  },
  {
   "cell_type": "code",
   "execution_count": 1,
   "metadata": {},
   "outputs": [],
   "source": [
    "## IMPORT NECESSARY LIBRARIES ##\n",
    "import numpy as np\n",
    "import matplotlib.pyplot as plt\n",
    "import seaborn as sns\n",
    "\n",
    "from src.thermo_models.RaoultsLawModel import *\n",
    "from src.utils.AntoineEquation import * \n",
    "\n",
    "from IPython.display import clear_output\n",
    "from src.distillation.DistillationTernary import *\n",
    "\n",
    "import ipywidgets as widgets\n",
    "from IPython.display import display\n",
    "from ipywidgets import Button, VBox, HBox, Output\n",
    "from IPython.display import clear_output\n",
    "\n",
    "import pickle\n",
    "from src.utils.dictionary_approx import *\n",
    "from src.distillation.residue_curves import *\n",
    "\n",
    "with open(\"src/utils/pickles/ex2_fixedpoints_dict.pkl\", \"rb\") as f:\n",
    "    rtofixedpoints_dict = pickle.load(f)"
   ]
  },
  {
   "cell_type": "markdown",
   "metadata": {},
   "source": [
    "**Here, the vapor-liquid equilibrium model for the ternary system is being defined.**"
   ]
  },
  {
   "cell_type": "code",
   "execution_count": 2,
   "metadata": {},
   "outputs": [],
   "source": [
    "# Antoine Parameters for benzene\n",
    "Ben_A = 4.72583\n",
    "Ben_B = 1660.652\n",
    "Ben_C = -1.461\n",
    "\n",
    "# Antoine Parameters for toluene\n",
    "Tol_A = 4.07827\n",
    "Tol_B = 1343.943\n",
    "Tol_C = -53.773\n",
    "\n",
    "# Antoine Parameters for Xylene\n",
    "Xyl_A = 4.14553\n",
    "Xyl_B = 1474.403\n",
    "Xyl_C = -55.377\n",
    "\n",
    "P_sys = 1.01325\n",
    "# Create Antoine equations for benzene and toluene\n",
    "benzene_antoine = AntoineEquationBase10(Ben_A, Ben_B, Ben_C)\n",
    "toluene_antoine = AntoineEquationBase10(Tol_A, Tol_B, Tol_C)\n",
    "xylene_antoine  = AntoineEquationBase10(Xyl_A, Xyl_B, Xyl_C)\n",
    "\n",
    "# Create a Raoult's law object\n",
    "TolBenXylSys = RaoultsLawModel(3,P_sys,[\"Benzene\", \"Toluene\", \"Xylene\"],[benzene_antoine, toluene_antoine, xylene_antoine])"
   ]
  },
  {
   "cell_type": "markdown",
   "metadata": {},
   "source": [
    "*Create sliders*"
   ]
  },
  {
   "cell_type": "code",
   "execution_count": 3,
   "metadata": {},
   "outputs": [],
   "source": [
    "#Changing Reflux Ratio Example\n",
    "\n",
    "reflux_ex_R_slider  = widgets.FloatSlider(value=1.0, min=0.1, max=2, step=0.001,  description='Reflux Ratio:', readout_format='.3f')\n",
    "reflux_ex_go_button = widgets.Button(description='Create Model', width='15%', margin='0 10px 0 0')\n",
    "reflux_ex_oplines   = Output()"
   ]
  },
  {
   "cell_type": "markdown",
   "metadata": {},
   "source": [
    "*Define plot functions*"
   ]
  },
  {
   "cell_type": "code",
   "execution_count": 4,
   "metadata": {},
   "outputs": [],
   "source": [
    "def reflux_ex_plot_rect_strip(dist_model, rcm, R):\n",
    "        \n",
    "    dist_model.set_xF(np.array([0.3, 0.3, 0.4]))\n",
    "    dist_model.set_xB(np.array([1e-5, 0.4261,0.5749]))\n",
    "    dist_model.set_xD(np.array([0.990, 0.0100, 1e-10]))\n",
    "    \n",
    "    fixed_points = approximate_value(rtofixedpoints_dict,R)\n",
    "    fig, ax      = plt.subplots(2,2,figsize= (10,10))\n",
    "    \n",
    "    dist_model.plot_rect_strip_comp(ax[0,0])\n",
    "    \n",
    "    for index,point in enumerate(fixed_points['values']):\n",
    "        ax[0,1].scatter(point[0], point[1], marker='2', s=25, color = '#3182bd', linewidths= 10)\n",
    "        \n",
    "        if fixed_points['source_indices'][index] == 0:\n",
    "            label = \"Unstable\"\n",
    "        elif fixed_points['source_indices'][index] == 1:\n",
    "            label = \"saddle\"\n",
    "        elif fixed_points['source_indices'][index] == 2:\n",
    "            label = \"stable\"\n",
    "        else:\n",
    "            label = \"unexpected node: error\"\n",
    "        ax[0,1].text(point[0], point[1], f' {label}', verticalalignment='bottom', horizontalalignment='right')\n",
    "    \n",
    "    ax[0,1].hlines\n",
    "    \n",
    "    ax[0,1].set_xlim([-0.05,1.05])                                                                                                   \n",
    "    ax[0,1].set_ylim([-0.05,1.05]) \n",
    "    \n",
    "    ax[0,1].plot([1,0], [0,1], color = 'k', linestyle='dashed') \n",
    "    ax[0,1].hlines(0, 0, 1, colors = 'k', linestyles = 'dashed')  # dashed line                                               \n",
    "    ax[0,1].vlines(0, 0, 1, colors = 'k', linestyles = 'dashed')  # dashed line                                               \n",
    "    \n",
    "    ax[0,1].set_xlabel(dist_model.thermo_model.comp_names[0], labelpad = 10)                                                        \n",
    "    ax[0,1].set_ylabel(dist_model.thermo_model.comp_names[1], labelpad = 10) \n",
    "        \n",
    "    #Plot Rectifying and stripping vector fields\n",
    "    rcm.plot_vector_field_rect (ax[1,0], 20)\n",
    "    rcm.plot_vector_field_strip(ax[1,1], 20)\n",
    "    \n",
    "    dist_model.plot_rect_comp(ax[1,0])\n",
    "    dist_model.plot_strip_comp(ax[1,1])\n",
    "    \n",
    "    for i in ax:\n",
    "        for j in i:\n",
    "            j.set_aspect('equal')\n",
    "\n",
    "    plt.subplots_adjust(hspace=0)\n",
    "    plt.legend()\n",
    "    plt.tight_layout()\n",
    "    plt.show()"
   ]
  },
  {
   "cell_type": "markdown",
   "metadata": {},
   "source": [
    "# Effects of Changing Reflux Ratio on Operating Compositions\n",
    "\n",
    "Unlike binary distillation, the VLE surface and the rectifying and stripping operating lines in a ternary system reside in a 4-dimensional space. These hyperplanes are parameterized by the liquid and vapor mole fractions $x_1$, $x_2$, $y_1$, and $y_2$. The third component's mole fraction in both phases is determinable from the first two, allowing for a reduction in dimensionality. Traditional 2D and 3D visualization tools are ill-suited for depicting these surfaces. Instead, compositions of liquid streams that exit a stage along the column offer a more effective visualization. In the binary case these where the symbols projected on the x-axis (See Example 1).\n",
    "\n",
    "## Interpretation of Graphical Elements\n",
    "\n",
    "### What Do the Blue and Red Points Signify?\n",
    "\n",
    "These points represent the stage-wise liquid phase compositions as one moves along the column. In binary systems, these correspond to the zig-zag path across the McCabe-Thiele diagram.\n",
    "\n",
    "### Why Are There Two Curves?\n",
    "\n",
    "Just as in binary distillation, these curves stem from different starting points: one originates from the bottoms (stripping OL) and the other from the distillate (rectifying OL). \n",
    "\n",
    "### Criteria for a Feasible Column\n",
    "\n",
    "Drawing a parallel to binary systems, a feasible column is one where the rectifying and stripping compositions intersect. This ensures a smooth transition in composition from the distillate to the bottoms along the column. In graphical terms, feasibility is indicated by an overlap between the rectifying and stripping curves.\n",
    "\n",
    "#### Interactive Exploration\n",
    "\n",
    "Move the slider to observe how the column's behavior changes. Your goal is to configure a column in which the rectifying and stripping curves overlap, signifying feasible operation. Take note of the location of fixed points—these are analogous to the intersection points between operating and equilibrium curves in binary distillation. Just like in the binary case, these fixed points define regions of infeasible compositions."
   ]
  },
  {
   "cell_type": "code",
   "execution_count": 5,
   "metadata": {},
   "outputs": [
    {
     "data": {
      "application/vnd.jupyter.widget-view+json": {
       "model_id": "62f159b6a30b4313a4b3ef1f6e741f47",
       "version_major": 2,
       "version_minor": 0
      },
      "text/plain": [
       "VBox(children=(HBox(children=(FloatSlider(value=1.0, description='Reflux Ratio:', max=2.0, min=0.1, readout_fo…"
      ]
     },
     "metadata": {},
     "output_type": "display_data"
    }
   ],
   "source": [
    "# Create a distillation model object\n",
    "xF = np.array([0.3, 0.3, 0.4])\n",
    "xD = np.array([0.4, 0.05, 0.55])\n",
    "xB = np.array([0.1,0.8,0.1])\n",
    "distillation_model = DistillationModelTernary(TolBenXylSys, xF = xF, xD = xD, xB = xB, reflux = 1)\n",
    "\n",
    "# Create a residue curve map object\n",
    "rcm = PhasePortraits(TolBenXylSys,distillation_model)\n",
    "\n",
    "def relux_ex_button(b):\n",
    "    with reflux_ex_oplines:\n",
    "        clear_output(wait=True)\n",
    "        plt.close('all')  # Close all open matplotlib plots\n",
    "        reflux_ex_plot_rect_strip( distillation_model, rcm, R = reflux_ex_R_slider.value)\n",
    "        \n",
    "go_button = Button(description='Generate Plot')\n",
    "go_button.on_click(relux_ex_button)\n",
    "\n",
    "reflux_ex_display = VBox([HBox([reflux_ex_R_slider, go_button]), reflux_ex_oplines])\n",
    "\n",
    "display(reflux_ex_display)"
   ]
  },
  {
   "cell_type": "markdown",
   "metadata": {},
   "source": [
    "## Selecting Stream Compositions: Theoretical Insights and Practical Implications\n",
    "\n",
    "Not all target distillate / bottoms compositions are possible or practical for operation. We're going to show you some examples—actual plots that lay out what works and what doesn't when you choose different product compositions. These examples will give you a hands-on look at how your choices directly affect the feasibility of your distillation column. Think of it as a visual guide to avoiding common pitfalls in design and operation."
   ]
  },
  {
   "cell_type": "markdown",
   "metadata": {},
   "source": [
    "### You can't Enrich heavy key in the Distillate\n",
    "\n",
    "This might seem obvious, but it is less intuitive here than the binary case. Despite whatever reflux ratio you choose for this selection of components, the two composition curves will never overlap"
   ]
  },
  {
   "cell_type": "code",
   "execution_count": null,
   "metadata": {},
   "outputs": [],
   "source": [
    "fig, ax = plt.subplots(1,3,figsize= (15,5)) ##CHECK MASS BALANCE\n",
    "#Impossible case (dist)\n",
    "distillation_model.set_xF(np.array([0.3, 0.3, 0.4]))\n",
    "distillation_model.set_xB(np.array([0.4, 0.05, 0.55]))\n",
    "distillation_model.set_xD(np.array([0.1, 0.8, 0.1]))\n",
    "\n",
    "# Change the value of reflux ratio\n",
    "distillation_model.set_r(1000)\n",
    "\n",
    "distillation_model.plot_rect_strip_comp(ax[0]) \n",
    "rcm.plot_vector_field_rect(ax[1]); rcm.plot_vector_field_strip(ax[2])\n",
    "\n",
    "# Uncomment these two lines to show the vector field\n",
    "distillation_model.plot_rect_comp(ax[1])\n",
    "distillation_model.plot_strip_comp(ax[2])\n",
    "\n",
    "for i in ax:\n",
    "    i.set_aspect('equal')"
   ]
  },
  {
   "cell_type": "markdown",
   "metadata": {},
   "source": [
    "### You can't Enrich Intermediate Component in the Bottoms or Tops at High Concentration\n",
    "\n"
   ]
  },
  {
   "cell_type": "code",
   "execution_count": null,
   "metadata": {},
   "outputs": [],
   "source": [
    "#Show different splits\n",
    "fig, ax = plt.subplots(1,3,figsize= (15,5))\n",
    "\n",
    "#Possible case\n",
    "\n",
    "distillation_model.set_xF(np.array([0.3, 0.3, 0.4]))\n",
    "distillation_model.set_xD(np.array([0.4, 0.05, 0.55]))\n",
    "distillation_model.set_xB(np.array([0.1, 0.8, 0.1]))\n",
    "\n",
    "# Change the reflux ration to any number of your choice\n",
    "distillation_model.set_r(1000)\n",
    "\n",
    "distillation_model.plot_rect_comp(ax[1])\n",
    "distillation_model.plot_strip_comp(ax[2])\n",
    "\n",
    "distillation_model.plot_rect_strip_comp(ax[0])\n",
    "rcm.plot_vector_field_rect(ax[1]); rcm.plot_vector_field_strip(ax[2])\n",
    "for i in ax:\n",
    "    i.set_aspect('equal')\n"
   ]
  },
  {
   "cell_type": "code",
   "execution_count": null,
   "metadata": {},
   "outputs": [],
   "source": [
    "fig, ax = plt.subplots(1,3,figsize= (15,5))\n",
    "\n",
    "distillation_model.set_xF(np.array([0.3, 0.3, 0.4]))\n",
    "distillation_model.set_xD(np.array([0.1, 0.8, 0.1]))\n",
    "distillation_model.set_xB(np.array([0.4, 0.05, 0.55]))\n",
    "\n",
    "# Change the reflux ration to any number of your choice\n",
    "distillation_model.set_r(1000)\n",
    "\n",
    "distillation_model.plot_rect_strip_comp(ax[0])\n",
    "distillation_model.plot_rect_comp(ax[1])\n",
    "distillation_model.plot_strip_comp(ax[2])\n",
    "\n",
    "rcm.plot_vector_field_rect(ax[1]); rcm.plot_vector_field_strip(ax[2])\n",
    "for i in ax:\n",
    "    i.set_aspect('equal')"
   ]
  },
  {
   "cell_type": "markdown",
   "metadata": {},
   "source": [
    "### Possible Case: Enrichment of Light-key Component in Distillate and Lowkey + Intermediate Component in Bottoms "
   ]
  },
  {
   "cell_type": "code",
   "execution_count": null,
   "metadata": {},
   "outputs": [],
   "source": [
    "#Show different splits\n",
    "fig, ax = plt.subplots(1,3,figsize= (15,5))\n",
    "\n",
    "distillation_model.set_xF(np.array([0.3, 0.3, 0.4]))\n",
    "distillation_model.set_xD(np.array([0.990, 0.0100, 1e-10]))\n",
    "distillation_model.set_xB(np.array([1e-5, 0.4261,0.5749]))\n",
    "\n",
    "distillation_model.set_r(2)\n",
    "\n",
    "distillation_model.plot_rect_strip_comp(ax[0])\n",
    "distillation_model.plot_rect_comp(ax[1])\n",
    "distillation_model.plot_strip_comp(ax[2])\n",
    "\n",
    "rcm.plot_vector_field_rect(ax[1]); rcm.plot_vector_field_strip(ax[2])\n",
    "\n",
    "for i in ax:\n",
    "    i.set_aspect('equal')"
   ]
  },
  {
   "cell_type": "code",
   "execution_count": null,
   "metadata": {},
   "outputs": [],
   "source": []
  }
 ],
 "metadata": {
  "kernelspec": {
   "display_name": "Python 3 (ipykernel)",
   "language": "python",
   "name": "python3"
  },
  "language_info": {
   "codemirror_mode": {
    "name": "ipython",
    "version": 3
   },
   "file_extension": ".py",
   "mimetype": "text/x-python",
   "name": "python",
   "nbconvert_exporter": "python",
   "pygments_lexer": "ipython3",
   "version": "3.8.16"
  }
 },
 "nbformat": 4,
 "nbformat_minor": 2
}
